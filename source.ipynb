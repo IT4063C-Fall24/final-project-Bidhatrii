{
 "cells": [
  {
   "attachments": {},
   "cell_type": "markdown",
   "metadata": {},
   "source": [
    "# Exploring the Gender Pay Gap Across Industries\n",
    "\n",
    "![Banner](./assets/banner.jpeg)"
   ]
  },
  {
   "attachments": {},
   "cell_type": "markdown",
   "metadata": {},
   "source": [
    "## Topic\n",
    "*What problem are you (or your stakeholder) trying to address?*\n",
    "📝 <!-- Answer Below -->\n",
    "\n",
    "Despite progress towards gender equality in the workplace, significant disparities in pay between men and women persist across various industries. Understanding the factors contributing to these disparities is essential for addressing the gender pay gap effectively.\n",
    "\n",
    "The gender pay gap impacts economic stability and personal well-being for many individuals. Addressing it can lead to a more equitable workforce and improved societal outcomes.\n",
    "\n"
   ]
  },
  {
   "attachments": {},
   "cell_type": "markdown",
   "metadata": {},
   "source": [
    "## Project Question\n",
    "*What specific question are you seeking to answer with this project?*\n",
    "*This is not the same as the questions you ask to limit the scope of the project.*\n",
    "📝 <!-- Answer Below -->\n",
    "\n",
    "-What is the average salary difference between men and women in various industries?\n",
    "-How do education levels and years of experience correlate with the gender pay gap?\n",
    "-Are there specific industries where the gender pay gap is more pronounced?\n",
    "-What role do company diversity and inclusion initiatives play in mitigating the pay gap?"
   ]
  },
  {
   "attachments": {},
   "cell_type": "markdown",
   "metadata": {},
   "source": [
    "## What would an answer look like?\n",
    "*What is your hypothesized answer to your question?*\n",
    "📝 <!-- Answer Below -->\n",
    "\n",
    "-Visual representations such as bar charts comparing average salaries by gender across industries.\n",
    "-Scatter plots correlating years of experience and education level with salary differences.\n",
    "-A summary of findings highlighting industries with significant disparities and potential factors influencing these gaps."
   ]
  },
  {
   "attachments": {},
   "cell_type": "markdown",
   "metadata": {},
   "source": [
    "## Data Sources\n",
    "*What 3 data sources have you identified for this project?*\n",
    "*How are you going to relate these datasets?*\n",
    "\n",
    "->Glassdoor Gender Pay Gap.csv\n",
    "This dataset provides insights into income disparities based on job titles and gender. By analyzing the base pay and bonuses for various job titles, you can identify specific roles where the gender pay gap is most significant. The demographic data (age, education, seniority) included in this dataset allows for a deeper exploration of how these factors correlate with salary differences.\n",
    "\n",
    "->inc_occ_gender.csv\n",
    "This dataset from the Bureau of Labor Statistics offers median weekly incomes segmented by occupation and sex. It can be used to compare and validate findings from the Glassdoor dataset, especially in understanding industry-wide trends in gender pay gaps. The data on total median income and the breakdown by gender will help highlight industries with pronounced disparities.\n",
    "\n",
    "->Salary_Data.csv\n",
    "This dataset consolidates information on age, experience, education level, and salary across various roles. It will serve as a comprehensive source to correlate individual characteristics (such as education and experience) with salary differences. By merging this data with the previous two datasets, you can create a more holistic view of the gender pay gap, examining how personal attributes impact salary in conjunction with industry-specific trends.\n",
    "\n",
    "Merging by Job Title and Gender: All three datasets contain job title and gender as key attributes. You can merge them to analyze salary differences within specific roles across various industries.\n",
    "\n",
    "Comparative Analysis: Use the Glassdoor dataset to explore salary structures within specific job titles and then validate these findings with the broader industry data from the BLS dataset. This comparison will highlight whether the trends observed in specific job titles reflect wider industry patterns.\n",
    "\n",
    "Correlational Studies: Use the Salary_Data dataset to perform statistical analyses, such as regression or correlation, to investigate how years of experience and education levels interact with the gender pay gap identified in the other datasets. This will enable you to provide a more nuanced understanding of the factors influencing salary disparities."
   ]
  },
  {
   "attachments": {},
   "cell_type": "markdown",
   "metadata": {},
   "source": [
    "## Approach and Analysis\n",
    "*What is your approach to answering your project question?*\n",
    "*How will you use the identified data to answer your project question?*\n",
    "📝 <!-- Start Discussing the project here; you can add as many code cells as you need -->"
   ]
  },
  {
   "cell_type": "code",
   "execution_count": 1,
   "metadata": {},
   "outputs": [
    {
     "name": "stdout",
     "output_type": "stream",
     "text": [
      "Glassdoor Overview:\n",
      "              JobTitle  Gender  Age  PerfEval Education            Dept  \\\n",
      "0     Graphic Designer  Female   18         5   College      Operations   \n",
      "1    Software Engineer    Male   21         5   College      Management   \n",
      "2  Warehouse Associate  Female   19         4       PhD  Administration   \n",
      "3    Software Engineer    Male   20         5   Masters           Sales   \n",
      "4     Graphic Designer    Male   26         5   Masters     Engineering   \n",
      "\n",
      "   Seniority  BasePay  Bonus  \n",
      "0          2    42363   9938  \n",
      "1          5   108476  11128  \n",
      "2          5    90208   9268  \n",
      "3          4   108080  10154  \n",
      "4          5    99464   9319   \n",
      "\n",
      "Income Occupation Gender Overview:\n",
      "                        Occupation  All_workers All_weekly  M_workers  \\\n",
      "0                  ALL OCCUPATIONS       109080        809      60746   \n",
      "1                       MANAGEMENT        12480       1351       7332   \n",
      "2                 Chief executives         1046       2041        763   \n",
      "3  General and operations managers          823       1260        621   \n",
      "4                      Legislators            8         Na          5   \n",
      "\n",
      "  M_weekly  F_workers F_weekly  \n",
      "0      895      48334      726  \n",
      "1     1486       5147     1139  \n",
      "2     2251        283     1836  \n",
      "3     1347        202     1002  \n",
      "4       Na          4       Na   \n",
      "\n",
      "Salary Data Overview:\n",
      "    Age  Gender Education Level          Job Title  Years of Experience  \\\n",
      "0  32.0    Male      Bachelor's  Software Engineer                  5.0   \n",
      "1  28.0  Female        Master's       Data Analyst                  3.0   \n",
      "2  45.0    Male             PhD     Senior Manager                 15.0   \n",
      "3  36.0  Female      Bachelor's    Sales Associate                  7.0   \n",
      "4  52.0    Male        Master's           Director                 20.0   \n",
      "\n",
      "     Salary  \n",
      "0   90000.0  \n",
      "1   65000.0  \n",
      "2  150000.0  \n",
      "3   60000.0  \n",
      "4  200000.0   \n",
      "\n"
     ]
    }
   ],
   "source": [
    "# Start your code here\n",
    "import pandas as pd\n",
    "\n",
    "# Define the file paths\n",
    "file_paths = {\n",
    "    \"Glassdoor\": \"datasets/Glassdoor Gender Pay Gap.csv\",\n",
    "    \"Income Occupation Gender\": \"datasets/inc_occ_gender.csv\",\n",
    "    \"Salary Data\": \"datasets/Salary_Data.csv\"\n",
    "}\n",
    "\n",
    "datasets = {}\n",
    "for name, path in file_paths.items():\n",
    "    datasets[name] = pd.read_csv(path)\n",
    "\n",
    "# Display the first few rows of each dataset\n",
    "for name, data in datasets.items():\n",
    "    print(f\"{name} Overview:\")\n",
    "    print(data.head(), \"\\n\")"
   ]
  },
  {
   "attachments": {},
   "cell_type": "markdown",
   "metadata": {},
   "source": [
    "## Resources and References\n",
    "*What resources and references have you used for this project?*\n",
    "📝 <!-- Answer Below -->"
   ]
  },
  {
   "cell_type": "code",
   "execution_count": 2,
   "metadata": {},
   "outputs": [
    {
     "name": "stdout",
     "output_type": "stream",
     "text": [
      "[NbConvertApp] Converting notebook source.ipynb to python\n",
      "[NbConvertApp] Writing 2418 bytes to source.py\n"
     ]
    }
   ],
   "source": [
    "# ⚠️ Make sure you run this cell at the end of your notebook before every submission!\n",
    "!jupyter nbconvert --to python source.ipynb"
   ]
  }
 ],
 "metadata": {
  "kernelspec": {
   "display_name": "Python 3",
   "language": "python",
   "name": "python3"
  },
  "language_info": {
   "codemirror_mode": {
    "name": "ipython",
    "version": 3
   },
   "file_extension": ".py",
   "mimetype": "text/x-python",
   "name": "python",
   "nbconvert_exporter": "python",
   "pygments_lexer": "ipython3",
   "version": "3.12.0"
  },
  "orig_nbformat": 4
 },
 "nbformat": 4,
 "nbformat_minor": 2
}
